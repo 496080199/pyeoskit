{
 "cells": [
  {
   "cell_type": "code",
   "execution_count": 1,
   "metadata": {},
   "outputs": [
    {
     "name": "stdout",
     "output_type": "stream",
     "text": [
      "{\"version\": \"eosio::abi/1.0\", \"types\": [{\"new_type_name\": \"account_name\", \"type\": \"name\"}], \"structs\": [{\"name\": \"transfer\", \"base\": \"\", \"fields\": [{\"name\": \"from\", \"type\": \"account_name\"}, {\"name\": \"to\", \"type\": \"account_name\"}, {\"name\": \"quantity\", \"type\": \"asset\"}, {\"name\": \"memo\", \"type\": \"string\"}]}, {\"name\": \"create\", \"base\": \"\", \"fields\": [{\"name\": \"issuer\", \"type\": \"account_name\"}, {\"name\": \"maximum_supply\", \"type\": \"asset\"}]}, {\"name\": \"issue\", \"base\": \"\", \"fields\": [{\"name\": \"to\", \"type\": \"account_name\"}, {\"name\": \"quantity\", \"type\": \"asset\"}, {\"name\": \"memo\", \"type\": \"string\"}]}, {\"name\": \"account\", \"base\": \"\", \"fields\": [{\"name\": \"balance\", \"type\": \"asset\"}]}, {\"name\": \"currency_stats\", \"base\": \"\", \"fields\": [{\"name\": \"supply\", \"type\": \"asset\"}, {\"name\": \"max_supply\", \"type\": \"asset\"}, {\"name\": \"issuer\", \"type\": \"account_name\"}]}], \"actions\": [{\"name\": \"transfer\", \"type\": \"transfer\", \"ricardian_contract\": \"\"}, {\"name\": \"issue\", \"type\": \"issue\", \"ricardian_contract\": \"\"}, {\"name\": \"create\", \"type\": \"create\", \"ricardian_contract\": \"\"}], \"tables\": [{\"name\": \"accounts\", \"index_type\": \"i64\", \"key_names\": [\"currency\"], \"key_types\": [\"uint64\"], \"type\": \"account\"}, {\"name\": \"stat\", \"index_type\": \"i64\", \"key_names\": [\"currency\"], \"key_types\": [\"uint64\"], \"type\": \"currency_stats\"}], \"ricardian_clauses\": [], \"error_messages\": [], \"abi_extensions\": [], \"variants\": []}\n"
     ]
    }
   ],
   "source": [
    "import os\n",
    "from pyeoskit import db\n",
    "from imp import reload\n",
    "db_path = os.path.expanduser('~')\n",
    "db_path = os.path.join(db_path, '.pyeoskit', 'db.pkl')\n",
    "if os.path.exists(db_path):\n",
    "    os.remove(db_path)\n",
    "    reload(db)\n",
    "\n",
    "r = db.get_abi('eosio.token')\n",
    "print(r)"
   ]
  },
  {
   "cell_type": "code",
   "execution_count": 5,
   "metadata": {},
   "outputs": [
    {
     "name": "stdout",
     "output_type": "stream",
     "text": [
      "{'account_name': 'hello', 'head_block_num': 46872, 'head_block_time': '2018-10-08T12:50:14.000', 'privileged': False, 'last_code_update': '2018-10-08T06:43:07.000', 'created': '2018-10-08T06:43:07.000', 'core_liquid_balance': '109.9986 EOS', 'ram_quota': -1, 'net_weight': -1, 'cpu_weight': -1, 'net_limit': {'used': -1, 'available': -1, 'max': -1}, 'cpu_limit': {'used': -1, 'available': -1, 'max': -1}, 'ram_usage': 12487, 'permissions': [{'perm_name': 'active', 'parent': 'owner', 'required_auth': {'threshold': 1, 'keys': [{'key': 'EOS5JuNfuZPATy8oPz9KMZV2asKf9m8fb2bSzftvhW55FKQFakzFL', 'weight': 1}], 'accounts': [], 'waits': []}}, {'perm_name': 'owner', 'parent': '', 'required_auth': {'threshold': 1, 'keys': [{'key': 'EOS61MgZLN7Frbc2J7giU7JdYjy2TqnfWFjZuLXvpHJoKzWAj7Nst', 'weight': 1}], 'accounts': [], 'waits': []}}], 'total_resources': None, 'self_delegated_bandwidth': None, 'refund_request': None, 'voter_info': None}\n"
     ]
    }
   ],
   "source": [
    "r = db.get_account('hello')\n",
    "print(r)"
   ]
  },
  {
   "cell_type": "code",
   "execution_count": 4,
   "metadata": {},
   "outputs": [
    {
     "name": "stdout",
     "output_type": "stream",
     "text": [
      "{\"version\": \"eosio::abi/1.0\", \"types\": [{\"new_type_name\": \"account_name\", \"type\": \"name\"}], \"structs\": [{\"name\": \"transfer\", \"base\": \"\", \"fields\": [{\"name\": \"from\", \"type\": \"account_name\"}, {\"name\": \"to\", \"type\": \"account_name\"}, {\"name\": \"quantity\", \"type\": \"asset\"}, {\"name\": \"memo\", \"type\": \"string\"}]}, {\"name\": \"create\", \"base\": \"\", \"fields\": [{\"name\": \"issuer\", \"type\": \"account_name\"}, {\"name\": \"maximum_supply\", \"type\": \"asset\"}]}, {\"name\": \"issue\", \"base\": \"\", \"fields\": [{\"name\": \"to\", \"type\": \"account_name\"}, {\"name\": \"quantity\", \"type\": \"asset\"}, {\"name\": \"memo\", \"type\": \"string\"}]}, {\"name\": \"account\", \"base\": \"\", \"fields\": [{\"name\": \"balance\", \"type\": \"asset\"}]}, {\"name\": \"currency_stats\", \"base\": \"\", \"fields\": [{\"name\": \"supply\", \"type\": \"asset\"}, {\"name\": \"max_supply\", \"type\": \"asset\"}, {\"name\": \"issuer\", \"type\": \"account_name\"}]}], \"actions\": [{\"name\": \"transfer\", \"type\": \"transfer\", \"ricardian_contract\": \"\"}, {\"name\": \"issue\", \"type\": \"issue\", \"ricardian_contract\": \"\"}, {\"name\": \"create\", \"type\": \"create\", \"ricardian_contract\": \"\"}], \"tables\": [{\"name\": \"accounts\", \"index_type\": \"i64\", \"key_names\": [\"currency\"], \"key_types\": [\"uint64\"], \"type\": \"account\"}, {\"name\": \"stat\", \"index_type\": \"i64\", \"key_names\": [\"currency\"], \"key_types\": [\"uint64\"], \"type\": \"currency_stats\"}], \"ricardian_clauses\": [], \"error_messages\": [], \"abi_extensions\": [], \"variants\": []}\n"
     ]
    }
   ],
   "source": [
    "r = db.get_abi('eosio.token')\n",
    "print(r)"
   ]
  },
  {
   "cell_type": "code",
   "execution_count": 3,
   "metadata": {},
   "outputs": [
    {
     "name": "stdout",
     "output_type": "stream",
     "text": [
      "{'account_name': 'eosio.token', 'head_block_num': 51742, 'head_block_time': '2018-10-08T13:30:49.000', 'privileged': False, 'last_code_update': '2018-10-08T07:10:05.500', 'created': '2018-10-08T07:10:05.500', 'ram_quota': -1, 'net_weight': -1, 'cpu_weight': -1, 'net_limit': {'used': -1, 'available': -1, 'max': -1}, 'cpu_limit': {'used': -1, 'available': -1, 'max': -1}, 'ram_usage': 189785, 'permissions': [{'perm_name': 'active', 'parent': 'owner', 'required_auth': {'threshold': 1, 'keys': [{'key': 'EOS5JuNfuZPATy8oPz9KMZV2asKf9m8fb2bSzftvhW55FKQFakzFL', 'weight': 1}], 'accounts': [], 'waits': []}}, {'perm_name': 'owner', 'parent': '', 'required_auth': {'threshold': 1, 'keys': [{'key': 'EOS61MgZLN7Frbc2J7giU7JdYjy2TqnfWFjZuLXvpHJoKzWAj7Nst', 'weight': 1}], 'accounts': [], 'waits': []}}], 'total_resources': None, 'self_delegated_bandwidth': None, 'refund_request': None, 'voter_info': None}\n"
     ]
    }
   ],
   "source": [
    "r = db.get_account('eosio.token')\n",
    "print(r)"
   ]
  },
  {
   "cell_type": "code",
   "execution_count": null,
   "metadata": {
    "collapsed": true
   },
   "outputs": [],
   "source": []
  }
 ],
 "metadata": {
  "kernelspec": {
   "display_name": "Python 3",
   "language": "python",
   "name": "python3"
  },
  "language_info": {
   "codemirror_mode": {
    "name": "ipython",
    "version": 3
   },
   "file_extension": ".py",
   "mimetype": "text/x-python",
   "name": "python",
   "nbconvert_exporter": "python",
   "pygments_lexer": "ipython3",
   "version": "3.6.1"
  }
 },
 "nbformat": 4,
 "nbformat_minor": 2
}
