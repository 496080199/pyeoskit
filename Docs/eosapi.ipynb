{
 "cells": [
  {
   "cell_type": "code",
   "execution_count": 1,
   "metadata": {
    "collapsed": true
   },
   "outputs": [],
   "source": [
    "from pyeoskit import eosapi"
   ]
  },
  {
   "cell_type": "code",
   "execution_count": 2,
   "metadata": {},
   "outputs": [
    {
     "data": {
      "text/plain": [
       "{\n",
       "    \"server_version\": \"502085b2\",\n",
       "    \"chain_id\": \"cf057bbfb72640471fd910bcb67639c22df9f92470936cddc1ade0e2f2e7dc4f\",\n",
       "    \"head_block_num\": 54308,\n",
       "    \"last_irreversible_block_num\": 54307,\n",
       "    \"last_irreversible_block_id\": \"0000d423e41107a3e5fdbbabbb49163844e684b449aecbfba1c272fbbc8866b0\",\n",
       "    \"head_block_id\": \"0000d4242c2ad23a4747ee96d5fdcba6ed8764a406b286f3f2fa5c4477c80847\",\n",
       "    \"head_block_time\": \"2018-10-08T13:52:12.000\",\n",
       "    \"head_block_producer\": \"eosio\",\n",
       "    \"virtual_block_cpu_limit\": 200000000,\n",
       "    \"virtual_block_net_limit\": 1048576000,\n",
       "    \"block_cpu_limit\": 199900,\n",
       "    \"block_net_limit\": 1048576,\n",
       "    \"server_version_string\": \"pre-release-1.0-101-g502085b21-dirty\"\n",
       "}"
      ]
     },
     "execution_count": 2,
     "metadata": {},
     "output_type": "execute_result"
    }
   ],
   "source": [
    "eosapi.get_info()"
   ]
  },
  {
   "cell_type": "code",
   "execution_count": 3,
   "metadata": {},
   "outputs": [
    {
     "data": {
      "text/plain": [
       "{\n",
       "    \"timestamp\": \"2018-06-01T12:00:00.000\",\n",
       "    \"producer\": \"\",\n",
       "    \"confirmed\": 1,\n",
       "    \"previous\": \"0000000000000000000000000000000000000000000000000000000000000000\",\n",
       "    \"transaction_mroot\": \"0000000000000000000000000000000000000000000000000000000000000000\",\n",
       "    \"action_mroot\": \"cf057bbfb72640471fd910bcb67639c22df9f92470936cddc1ade0e2f2e7dc4f\",\n",
       "    \"schedule_version\": 0,\n",
       "    \"new_producers\": null,\n",
       "    \"header_extensions\": [],\n",
       "    \"producer_signature\": \"SIG_K1_111111111111111111111111111111111111111111111111111111111111111116uk5ne\",\n",
       "    \"transactions\": [],\n",
       "    \"block_extensions\": [],\n",
       "    \"id\": \"00000001bcf2f448225d099685f14da76803028926af04d2607eafcf609c265c\",\n",
       "    \"block_num\": 1,\n",
       "    \"ref_block_prefix\": 2517196066\n",
       "}"
      ]
     },
     "execution_count": 3,
     "metadata": {},
     "output_type": "execute_result"
    }
   ],
   "source": [
    "eosapi.get_block(1)"
   ]
  },
  {
   "cell_type": "code",
   "execution_count": 4,
   "metadata": {},
   "outputs": [
    {
     "data": {
      "text/plain": [
       "{\n",
       "    \"id\": \"0000d4242c2ad23a4747ee96d5fdcba6ed8764a406b286f3f2fa5c4477c80847\",\n",
       "    \"block_num\": 54308,\n",
       "    \"header\": {\n",
       "        \"timestamp\": \"2018-10-08T13:52:12.000\",\n",
       "        \"producer\": \"eosio\",\n",
       "        \"confirmed\": 0,\n",
       "        \"previous\": \"0000d423e41107a3e5fdbbabbb49163844e684b449aecbfba1c272fbbc8866b0\",\n",
       "        \"transaction_mroot\": \"0000000000000000000000000000000000000000000000000000000000000000\",\n",
       "        \"action_mroot\": \"a249df52e13b3004969f69e625e0bf347c86a5e4477cc342b7dcda285ed78fda\",\n",
       "        \"schedule_version\": 0,\n",
       "        \"header_extensions\": [],\n",
       "        \"producer_signature\": \"SIG_K1_KZZn4YDCp84vGY9DR8DNEPLsMzX1m6LhCzNtGqbu8iktn9BFP9uf5g7aSj9fxKs8eUjbzzEsNammNzmc5C3H2vNo79Fha6\"\n",
       "    },\n",
       "    \"dpos_proposed_irreversible_blocknum\": 54308,\n",
       "    \"dpos_irreversible_blocknum\": 54307,\n",
       "    \"bft_irreversible_blocknum\": 0,\n",
       "    \"pending_schedule_lib_num\": 0,\n",
       "    \"pending_schedule_hash\": \"828135c21a947b15cdbf4941ba09e1c9e0a80e88a157b0989e9b476b71a21c6b\",\n",
       "    \"pending_schedule\": {\n",
       "        \"version\": 0,\n",
       "        \"producers\": []\n",
       "    },\n",
       "    \"active_schedule\": {\n",
       "        \"version\": 0,\n",
       "        \"producers\": [\n",
       "            {\n",
       "                \"producer_name\": \"eosio\",\n",
       "                \"block_signing_key\": \"EOS6MRyAjQq8ud7hVNYcfnVPJqcVpscN5So8BhtHuGYqET5GDW5CV\"\n",
       "            }\n",
       "        ]\n",
       "    },\n",
       "    \"blockroot_merkle\": {\n",
       "        \"_active_nodes\": [\n",
       "            \"0000d423e41107a3e5fdbbabbb49163844e684b449aecbfba1c272fbbc8866b0\",\n",
       "            \"b30d6ae938533dba0e810691e801a3fd590b9c66bd50836dde7e822f80f94892\",\n",
       "            \"2e3fda4175be2bff45c54f701bd2858ded80751ec467d9230a6efd40705beca2\",\n",
       "            \"bf0cc1943615f5e60118b2b3cb0243fe834e3b1d43a1449c95b15bf3ec62414f\",\n",
       "            \"95372fbd7e3d77e123d98214164a403f50d76b3436fcf19771a138c41751470e\",\n",
       "            \"0db2399f38ec6a72fab02b266b96a908f8dfef437fdeb4116fa90be71ddf1936\",\n",
       "            \"78233e66b69228d482750a45c61bbdde7c3bc57345628640c0b8fb27de9ce910\",\n",
       "            \"ac4349c6e12dcd635eceb91b16014a65b33f1e4a15255cf2a0cff1f2a3932240\"\n",
       "        ],\n",
       "        \"_node_count\": 54307\n",
       "    },\n",
       "    \"producer_to_last_produced\": [\n",
       "        [\n",
       "            \"eosio\",\n",
       "            54308\n",
       "        ]\n",
       "    ],\n",
       "    \"producer_to_last_implied_irb\": [\n",
       "        [\n",
       "            \"eosio\",\n",
       "            54307\n",
       "        ]\n",
       "    ],\n",
       "    \"block_signing_key\": \"EOS6MRyAjQq8ud7hVNYcfnVPJqcVpscN5So8BhtHuGYqET5GDW5CV\",\n",
       "    \"confirm_count\": [],\n",
       "    \"confirmations\": []\n",
       "}"
      ]
     },
     "execution_count": 4,
     "metadata": {},
     "output_type": "execute_result"
    }
   ],
   "source": [
    "info = eosapi.get_info()\n",
    "eosapi.get_block_header_state(info.last_irreversible_block_num)"
   ]
  },
  {
   "cell_type": "code",
   "execution_count": 5,
   "metadata": {},
   "outputs": [
    {
     "data": {
      "text/plain": [
       "{\n",
       "    \"account_name\": \"hello\",\n",
       "    \"head_block_num\": 54309,\n",
       "    \"head_block_time\": \"2018-10-08T13:52:12.500\",\n",
       "    \"privileged\": false,\n",
       "    \"last_code_update\": \"2018-10-08T06:43:07.000\",\n",
       "    \"created\": \"2018-10-08T06:43:07.000\",\n",
       "    \"core_liquid_balance\": \"109.9982 EOS\",\n",
       "    \"ram_quota\": -1,\n",
       "    \"net_weight\": -1,\n",
       "    \"cpu_weight\": -1,\n",
       "    \"net_limit\": {\n",
       "        \"used\": -1,\n",
       "        \"available\": -1,\n",
       "        \"max\": -1\n",
       "    },\n",
       "    \"cpu_limit\": {\n",
       "        \"used\": -1,\n",
       "        \"available\": -1,\n",
       "        \"max\": -1\n",
       "    },\n",
       "    \"ram_usage\": 12487,\n",
       "    \"permissions\": [\n",
       "        {\n",
       "            \"perm_name\": \"active\",\n",
       "            \"parent\": \"owner\",\n",
       "            \"required_auth\": {\n",
       "                \"threshold\": 1,\n",
       "                \"keys\": [\n",
       "                    {\n",
       "                        \"key\": \"EOS5JuNfuZPATy8oPz9KMZV2asKf9m8fb2bSzftvhW55FKQFakzFL\",\n",
       "                        \"weight\": 1\n",
       "                    }\n",
       "                ],\n",
       "                \"accounts\": [],\n",
       "                \"waits\": []\n",
       "            }\n",
       "        },\n",
       "        {\n",
       "            \"perm_name\": \"owner\",\n",
       "            \"parent\": \"\",\n",
       "            \"required_auth\": {\n",
       "                \"threshold\": 1,\n",
       "                \"keys\": [\n",
       "                    {\n",
       "                        \"key\": \"EOS61MgZLN7Frbc2J7giU7JdYjy2TqnfWFjZuLXvpHJoKzWAj7Nst\",\n",
       "                        \"weight\": 1\n",
       "                    }\n",
       "                ],\n",
       "                \"accounts\": [],\n",
       "                \"waits\": []\n",
       "            }\n",
       "        }\n",
       "    ],\n",
       "    \"total_resources\": null,\n",
       "    \"self_delegated_bandwidth\": null,\n",
       "    \"refund_request\": null,\n",
       "    \"voter_info\": null\n",
       "}"
      ]
     },
     "execution_count": 5,
     "metadata": {},
     "output_type": "execute_result"
    }
   ],
   "source": [
    "eosapi.get_account('hello')"
   ]
  },
  {
   "cell_type": "code",
   "execution_count": 6,
   "metadata": {},
   "outputs": [
    {
     "data": {
      "text/plain": [
       "{\n",
       "    \"account_name\": \"hello\",\n",
       "    \"code_hash\": \"66067f4f6ddb3acd43709dc270b7d4956311fb8ddc3f98efb754ba465e63b62e\",\n",
       "    \"wast\": \"\",\n",
       "    \"wasm\": \"630000000000000000000000000200000040000000733c000000640064016c005a00640064026c016d025a026d035a036d045a046d055a0501006403640484005a066405640684005a076407640884005a08640153002909e9000000004e2904da014eda0b726561645f616374696f6eda0b73656e645f696e6c696e65da0f7472616e736665725f696e6c696e6563000000000000000009000000070000004300000073820000007400640183017d007400640283017d01740183007d02740264017c02830201007c007d037c007d047c007d057c007d067403a0047c037c047c057c01a1047d077c0764036b05726c7403a0057c07a1017d08740264047c08830201007403a0067c077c067c02a10301006e127403a0077c047c057c067c017c02a10501006400530029054eda0568656c6c6fda046e616d6572000000007a0668656c6c6f2c290872010000007202000000da057072696e74da026462da0866696e645f693634da076765745f693634da0a7570646174655f693634da0973746f72655f6936342909da016eda0269647206000000da04636f6465da0573636f7065da057461626c65da057061796572da03697472da086f6c645f6e616d65a9007215000000fa0568656c6c6fda0873617948656c6c6f04000000731c00000000010801080206010a010401040104010401100108010a010a01100272170000006300000000000000000100000002000000430000007318000000640164026c006d017d0001007c00a002a10001006400530029034e72000000002901da0667617264656e2903da086261636b796172647218000000da04706c617929017218000000721500000072150000007216000000721a00000016000000730400000000010c01721a000000630300000000000000030000000300000043000000732e0000007c027400640183016b0272147401830001006e167c027400640283016b02722a740264036404830201006400530029054eda0873617968656c6c6f721a000000da05656f73696fe96400000029037201000000721700000072040000002903da087265636569766572720f000000da06616374696f6e721500000072150000007216000000da056170706c791a000000730800000000010c0108010c01722000000029097208000000da06656f736c696272010000007202000000720300000072040000007217000000721a00000072200000007215000000721500000072150000007216000000da083c6d6f64756c653e0100000073080000000801180208120804\",\n",
       "    \"abi\": {\n",
       "        \"version\": \"eosio::abi/1.0\",\n",
       "        \"types\": [],\n",
       "        \"structs\": [\n",
       "            {\n",
       "                \"name\": \"message\",\n",
       "                \"base\": \"\",\n",
       "                \"fields\": [\n",
       "                    {\n",
       "                        \"name\": \"msg\",\n",
       "                        \"type\": \"string\"\n",
       "                    }\n",
       "                ]\n",
       "            }\n",
       "        ],\n",
       "        \"actions\": [\n",
       "            {\n",
       "                \"name\": \"sayhello\",\n",
       "                \"type\": \"raw\",\n",
       "                \"ricardian_contract\": \"\"\n",
       "            }\n",
       "        ],\n",
       "        \"tables\": [],\n",
       "        \"ricardian_clauses\": [],\n",
       "        \"error_messages\": [],\n",
       "        \"abi_extensions\": [],\n",
       "        \"variants\": []\n",
       "    }\n",
       "}"
      ]
     },
     "execution_count": 6,
     "metadata": {},
     "output_type": "execute_result"
    }
   ],
   "source": [
    "eosapi.get_code('hello')"
   ]
  },
  {
   "cell_type": "code",
   "execution_count": 7,
   "metadata": {},
   "outputs": [
    {
     "data": {
      "text/plain": [
       "{\n",
       "    \"active\": {\n",
       "        \"version\": 0,\n",
       "        \"producers\": [\n",
       "            {\n",
       "                \"producer_name\": \"eosio\",\n",
       "                \"block_signing_key\": \"EOS6MRyAjQq8ud7hVNYcfnVPJqcVpscN5So8BhtHuGYqET5GDW5CV\"\n",
       "            }\n",
       "        ]\n",
       "    },\n",
       "    \"pending\": null,\n",
       "    \"proposed\": null\n",
       "}"
      ]
     },
     "execution_count": 7,
     "metadata": {},
     "output_type": "execute_result"
    }
   ],
   "source": [
    " eosapi.get_producer_schedule()"
   ]
  },
  {
   "cell_type": "code",
   "execution_count": 8,
   "metadata": {},
   "outputs": [
    {
     "data": {
      "text/plain": [
       "{\n",
       "    \"binargs\": \"0000000000ea305500000000001aa36a010000000000000004454f53000000000b68656c6c6f2c776f726c64\"\n",
       "}"
      ]
     },
     "execution_count": 8,
     "metadata": {},
     "output_type": "execute_result"
    }
   ],
   "source": [
    "args = {\"from\": 'eosio',\n",
    "        \"to\": 'hello',\n",
    "        \"quantity\": '0.0001 EOS',\n",
    "        \"memo\": 'hello,world'\n",
    "}\n",
    "\n",
    "eosapi.abi_json_to_bin('eosio.token', 'transfer', args)"
   ]
  },
  {
   "cell_type": "code",
   "execution_count": 9,
   "metadata": {},
   "outputs": [
    {
     "data": {
      "text/plain": [
       "{\n",
       "    \"args\": {\n",
       "        \"from\": \"eosio\",\n",
       "        \"to\": \"hello\",\n",
       "        \"quantity\": \"0.0001 EOS\",\n",
       "        \"memo\": \"hello,world\"\n",
       "    }\n",
       "}"
      ]
     },
     "execution_count": 9,
     "metadata": {},
     "output_type": "execute_result"
    }
   ],
   "source": [
    "binargs = '0000000000ea305500000000001aa36a010000000000000004454f53000000000b68656c6c6f2c776f726c64'\n",
    "eosapi.abi_bin_to_json('eosio.token', 'transfer', binargs)"
   ]
  },
  {
   "cell_type": "code",
   "execution_count": 10,
   "metadata": {
    "collapsed": true
   },
   "outputs": [],
   "source": [
    "from pyeoskit import db\n",
    "abi = '''\n",
    "{\n",
    "   \"version\": \"eosio::abi/1.0\",\n",
    "   \"types\": [{\n",
    "      \"new_type_name\": \"account_name\",\n",
    "      \"type\": \"name\"\n",
    "   }],\n",
    "  \"structs\": [{\n",
    "      \"name\": \"transfer\",\n",
    "      \"base\": \"\",\n",
    "      \"fields\": [\n",
    "        {\"name\":\"from\", \"type\":\"account_name\"},\n",
    "        {\"name\":\"to\", \"type\":\"account_name\"},\n",
    "        {\"name\":\"quantity\", \"type\":\"asset\"},\n",
    "        {\"name\":\"memo\", \"type\":\"string\"}\n",
    "      ]\n",
    "    }\n",
    "  ],\n",
    "  \"actions\": [{\n",
    "      \"name\": \"transfer\",\n",
    "      \"type\": \"transfer\",\n",
    "      \"ricardian_contract\": \"\"\n",
    "    }],\n",
    "  \"tables\": [],\n",
    "  \"ricardian_clauses\": [],\n",
    "  \"abi_extensions\": []\n",
    "}\n",
    "'''\n",
    "db.set_abi('eosio.token', abi)\n"
   ]
  },
  {
   "cell_type": "code",
   "execution_count": 11,
   "metadata": {},
   "outputs": [
    {
     "name": "stdout",
     "output_type": "stream",
     "text": [
      "b'\\x00\\x00\\x00\\x00\\x00\\xea0U\\x00\\x00\\x00\\x00\\x00\\x1a\\xa3j\\x01\\x00\\x00\\x00\\x00\\x00\\x00\\x00\\x04EOS\\x00\\x00\\x00\\x00\\x0bhello,world'\n"
     ]
    },
    {
     "data": {
      "text/plain": [
       "{'from': 'eosio',\n",
       " 'memo': 'hello,world',\n",
       " 'quantity': '0.0001 EOS',\n",
       " 'to': 'hello'}"
      ]
     },
     "execution_count": 11,
     "metadata": {},
     "output_type": "execute_result"
    }
   ],
   "source": [
    "\n",
    "\n",
    "args = {\"from\": 'eosio',\n",
    "        \"to\": 'hello',\n",
    "        \"quantity\": '0.0001 EOS',\n",
    "        \"memo\": 'hello,world'\n",
    "}\n",
    "\n",
    "r = eosapi.pack_args(abi, 'transfer', args)\n",
    "print(r)\n",
    "eosapi.unpack_args(abi, 'transfer', r)\n"
   ]
  },
  {
   "cell_type": "code",
   "execution_count": 12,
   "metadata": {},
   "outputs": [
    {
     "name": "stdout",
     "output_type": "stream",
     "text": [
      "{\"expiration\":\"2018-10-08T14:52:12\",\"ref_block_num\":54308,\"ref_block_prefix\":2532198215,\"max_net_usage_words\":0,\"max_cpu_usage_ms\":0,\"delay_sec\":0,\"context_free_actions\":[],\"actions\":[{\"account\":\"eosio.token\",\"name\":\"transfer\",\"authorization\":[{\"actor\":\"eosio\",\"permission\":\"active\"}],\"data\":\"0000000000ea305500000000001aa36a010000000000000004454f53000000000b68656c6c6f2c776f726c64\"}],\"transaction_extensions\":[],\"signatures\":[],\"context_free_data\":[]}\n"
     ]
    }
   ],
   "source": [
    "from pyeoskit import eosapi\n",
    "args = {\"from\": 'eosio',\n",
    "        \"to\": 'hello',\n",
    "        \"quantity\": '0.0001 EOS',\n",
    "        \"memo\": 'hello,world'\n",
    "}\n",
    "action = ['eosio.token', 'transfer', args, {'eosio':'active'}]\n",
    "reference_block_id = eosapi.get_info().last_irreversible_block_id\n",
    "r = eosapi.gen_transaction([action], 60*60, reference_block_id)\n",
    "print(r)"
   ]
  },
  {
   "cell_type": "code",
   "execution_count": 2,
   "metadata": {},
   "outputs": [
    {
     "name": "stdout",
     "output_type": "stream",
     "text": [
      "\n",
      "{\n",
      "   \"version\": \"eosio::abi/1.0\",\n",
      "   \"types\": [{\n",
      "      \"new_type_name\": \"account_name\",\n",
      "      \"type\": \"name\"\n",
      "   }],\n",
      "  \"structs\": [{\n",
      "      \"name\": \"transfer\",\n",
      "      \"base\": \"\",\n",
      "      \"fields\": [\n",
      "        {\"name\":\"from\", \"type\":\"account_name\"},\n",
      "        {\"name\":\"to\", \"type\":\"account_name\"},\n",
      "        {\"name\":\"quantity\", \"type\":\"asset\"},\n",
      "        {\"name\":\"memo\", \"type\":\"string\"}\n",
      "      ]\n",
      "    }\n",
      "  ],\n",
      "  \"actions\": [{\n",
      "      \"name\": \"transfer\",\n",
      "      \"type\": \"transfer\",\n",
      "      \"ricardian_contract\": \"\"\n",
      "    }],\n",
      "  \"tables\": [],\n",
      "  \"ricardian_clauses\": [],\n",
      "  \"abi_extensions\": []\n",
      "}\n",
      "\n"
     ]
    }
   ],
   "source": [
    "from pyeoskit import db\n",
    "from pyeoskit import eosapi\n",
    "abi = db.get_abi('eosio.token')\n",
    "print(abi)"
   ]
  },
  {
   "cell_type": "code",
   "execution_count": 5,
   "metadata": {},
   "outputs": [
    {
     "name": "stdout",
     "output_type": "stream",
     "text": [
      "{\"expiration\":\"2018-10-09T04:16:26\",\"ref_block_num\":33308,\"ref_block_prefix\":2972109896,\"max_net_usage_words\":0,\"max_cpu_usage_ms\":0,\"delay_sec\":0,\"context_free_actions\":[],\"actions\":[{\"account\":\"eosio.token\",\"name\":\"transfer\",\"authorization\":[{\"actor\":\"hello\",\"permission\":\"active\"}],\"data\":\"00000000001aa36a0000000000ea3055010000000000000004454f53000000000b68656c6c6f2c776f726c64\"}],\"transaction_extensions\":[],\"signatures\":[],\"context_free_data\":[]}\n",
      "{\"expiration\":\"2018-10-09T04:16:26\",\"ref_block_num\":33308,\"ref_block_prefix\":2972109896,\"max_net_usage_words\":0,\"max_cpu_usage_ms\":0,\"delay_sec\":0,\"context_free_actions\":[],\"actions\":[{\"account\":\"eosio.token\",\"name\":\"transfer\",\"authorization\":[{\"actor\":\"hello\",\"permission\":\"active\"}],\"data\":\"00000000001aa36a0000000000ea3055010000000000000004454f53000000000b68656c6c6f2c776f726c64\"}],\"transaction_extensions\":[],\"signatures\":[\"SIG_K1_KcMfpkQWM64XMPziaA6oVtK9ddTdZGpC7Za4GnsyUX5FdVuk4s3CHjgR5AYnZ7MCy7xxRzkbUFuAko7PBbrdR3HYrv1ePw\"],\"context_free_data\":[]}\n",
      "{\"signatures\":[\"SIG_K1_KcMfpkQWM64XMPziaA6oVtK9ddTdZGpC7Za4GnsyUX5FdVuk4s3CHjgR5AYnZ7MCy7xxRzkbUFuAko7PBbrdR3HYrv1ePw\"],\"compression\":\"none\",\"packed_context_free_data\":\"\",\"packed_trx\":\"9a2bbc5b1c8248cc26b1000000000100a6823403ea3055000000572d3ccdcd0100000000001aa36a00000000a8ed32322c00000000001aa36a0000000000ea3055010000000000000004454f53000000000b68656c6c6f2c776f726c6400\"}\n"
     ]
    },
    {
     "data": {
      "text/plain": [
       "{\n",
       "    \"transaction_id\": \"910709907bf96af12c34554461865db29147090f954b749fb5836fd0704e1c29\",\n",
       "    \"processed\": {\n",
       "        \"id\": \"910709907bf96af12c34554461865db29147090f954b749fb5836fd0704e1c29\",\n",
       "        \"block_num\": 98846,\n",
       "        \"block_time\": \"2018-10-09T04:15:27.000\",\n",
       "        \"producer_block_id\": null,\n",
       "        \"receipt\": {\n",
       "            \"status\": \"executed\",\n",
       "            \"cpu_usage_us\": 1949,\n",
       "            \"net_usage_words\": 17\n",
       "        },\n",
       "        \"elapsed\": 1949,\n",
       "        \"net_usage\": 136,\n",
       "        \"scheduled\": false,\n",
       "        \"action_traces\": [\n",
       "            {\n",
       "                \"receipt\": {\n",
       "                    \"receiver\": \"eosio.token\",\n",
       "                    \"act_digest\": \"78a51d36e7ab6541056487422bfc6e9e519a4e99dc35d91633b85233f90ae530\",\n",
       "                    \"global_sequence\": 98947,\n",
       "                    \"recv_sequence\": 29,\n",
       "                    \"auth_sequence\": [\n",
       "                        [\n",
       "                            \"hello\",\n",
       "                            73\n",
       "                        ]\n",
       "                    ],\n",
       "                    \"code_sequence\": 1,\n",
       "                    \"abi_sequence\": 1\n",
       "                },\n",
       "                \"act\": {\n",
       "                    \"account\": \"eosio.token\",\n",
       "                    \"name\": \"transfer\",\n",
       "                    \"authorization\": [\n",
       "                        {\n",
       "                            \"actor\": \"hello\",\n",
       "                            \"permission\": \"active\"\n",
       "                        }\n",
       "                    ],\n",
       "                    \"data\": {\n",
       "                        \"from\": \"hello\",\n",
       "                        \"to\": \"eosio\",\n",
       "                        \"quantity\": \"0.0001 EOS\",\n",
       "                        \"memo\": \"hello,world\"\n",
       "                    },\n",
       "                    \"hex_data\": \"00000000001aa36a0000000000ea3055010000000000000004454f53000000000b68656c6c6f2c776f726c64\"\n",
       "                },\n",
       "                \"context_free\": false,\n",
       "                \"elapsed\": 306,\n",
       "                \"cpu_usage\": 0,\n",
       "                \"console\": \"\",\n",
       "                \"total_cpu_usage\": 0,\n",
       "                \"trx_id\": \"910709907bf96af12c34554461865db29147090f954b749fb5836fd0704e1c29\",\n",
       "                \"block_num\": 98846,\n",
       "                \"block_time\": \"2018-10-09T04:15:27.000\",\n",
       "                \"producer_block_id\": null,\n",
       "                \"account_ram_deltas\": [],\n",
       "                \"inline_traces\": [\n",
       "                    {\n",
       "                        \"receipt\": {\n",
       "                            \"receiver\": \"hello\",\n",
       "                            \"act_digest\": \"78a51d36e7ab6541056487422bfc6e9e519a4e99dc35d91633b85233f90ae530\",\n",
       "                            \"global_sequence\": 98948,\n",
       "                            \"recv_sequence\": 28,\n",
       "                            \"auth_sequence\": [\n",
       "                                [\n",
       "                                    \"hello\",\n",
       "                                    74\n",
       "                                ]\n",
       "                            ],\n",
       "                            \"code_sequence\": 1,\n",
       "                            \"abi_sequence\": 1\n",
       "                        },\n",
       "                        \"act\": {\n",
       "                            \"account\": \"eosio.token\",\n",
       "                            \"name\": \"transfer\",\n",
       "                            \"authorization\": [\n",
       "                                {\n",
       "                                    \"actor\": \"hello\",\n",
       "                                    \"permission\": \"active\"\n",
       "                                }\n",
       "                            ],\n",
       "                            \"data\": {\n",
       "                                \"from\": \"hello\",\n",
       "                                \"to\": \"eosio\",\n",
       "                                \"quantity\": \"0.0001 EOS\",\n",
       "                                \"memo\": \"hello,world\"\n",
       "                            },\n",
       "                            \"hex_data\": \"00000000001aa36a0000000000ea3055010000000000000004454f53000000000b68656c6c6f2c776f726c64\"\n",
       "                        },\n",
       "                        \"context_free\": false,\n",
       "                        \"elapsed\": 533,\n",
       "                        \"cpu_usage\": 0,\n",
       "                        \"console\": \"\",\n",
       "                        \"total_cpu_usage\": 0,\n",
       "                        \"trx_id\": \"910709907bf96af12c34554461865db29147090f954b749fb5836fd0704e1c29\",\n",
       "                        \"block_num\": 98846,\n",
       "                        \"block_time\": \"2018-10-09T04:15:27.000\",\n",
       "                        \"producer_block_id\": null,\n",
       "                        \"account_ram_deltas\": [],\n",
       "                        \"inline_traces\": []\n",
       "                    },\n",
       "                    {\n",
       "                        \"receipt\": {\n",
       "                            \"receiver\": \"eosio\",\n",
       "                            \"act_digest\": \"78a51d36e7ab6541056487422bfc6e9e519a4e99dc35d91633b85233f90ae530\",\n",
       "                            \"global_sequence\": 98949,\n",
       "                            \"recv_sequence\": 98892,\n",
       "                            \"auth_sequence\": [\n",
       "                                [\n",
       "                                    \"hello\",\n",
       "                                    75\n",
       "                                ]\n",
       "                            ],\n",
       "                            \"code_sequence\": 1,\n",
       "                            \"abi_sequence\": 1\n",
       "                        },\n",
       "                        \"act\": {\n",
       "                            \"account\": \"eosio.token\",\n",
       "                            \"name\": \"transfer\",\n",
       "                            \"authorization\": [\n",
       "                                {\n",
       "                                    \"actor\": \"hello\",\n",
       "                                    \"permission\": \"active\"\n",
       "                                }\n",
       "                            ],\n",
       "                            \"data\": {\n",
       "                                \"from\": \"hello\",\n",
       "                                \"to\": \"eosio\",\n",
       "                                \"quantity\": \"0.0001 EOS\",\n",
       "                                \"memo\": \"hello,world\"\n",
       "                            },\n",
       "                            \"hex_data\": \"00000000001aa36a0000000000ea3055010000000000000004454f53000000000b68656c6c6f2c776f726c64\"\n",
       "                        },\n",
       "                        \"context_free\": false,\n",
       "                        \"elapsed\": 115,\n",
       "                        \"cpu_usage\": 0,\n",
       "                        \"console\": \"\",\n",
       "                        \"total_cpu_usage\": 0,\n",
       "                        \"trx_id\": \"910709907bf96af12c34554461865db29147090f954b749fb5836fd0704e1c29\",\n",
       "                        \"block_num\": 98846,\n",
       "                        \"block_time\": \"2018-10-09T04:15:27.000\",\n",
       "                        \"producer_block_id\": null,\n",
       "                        \"account_ram_deltas\": [],\n",
       "                        \"inline_traces\": []\n",
       "                    }\n",
       "                ]\n",
       "            }\n",
       "        ],\n",
       "        \"except\": null\n",
       "    }\n",
       "}"
      ]
     },
     "execution_count": 5,
     "metadata": {},
     "output_type": "execute_result"
    }
   ],
   "source": [
    "from pyeoskit import db\n",
    "from pyeoskit import eosapi\n",
    "args = {\"from\": 'eosio',\n",
    "        \"to\": 'hello',\n",
    "        \"quantity\": '0.0001 EOS',\n",
    "        \"memo\": 'hello,world'\n",
    "}\n",
    "\n",
    "abi = db.get_abi('eosio.token')\n",
    "r = eosapi.pack_args(abi, 'transfer', args)\n",
    "assert r\n",
    "\n",
    "args = {\"from\": 'hello',\n",
    "        \"to\": 'eosio',\n",
    "        \"quantity\": '0.0001 EOS',\n",
    "        \"memo\": 'hello,world'\n",
    "}\n",
    "action = ['eosio.token', 'transfer', args, {'hello':'active'}]\n",
    "reference_block_id = eosapi.get_info().last_irreversible_block_id\n",
    "trx = eosapi.gen_transaction([action], 60, reference_block_id)\n",
    "print(trx)\n",
    "\n",
    "info = eosapi.get_info()\n",
    "trx = eosapi.sign_transaction(trx, '5JbDP55GXN7MLcNYKCnJtfKi9aD2HvHAdY7g8m67zFTAFkY1uBB', info.chain_id)\n",
    "print(trx)\n",
    "\n",
    "trx = eosapi.pack_transaction(trx, 0)\n",
    "print(trx)\n",
    "eosapi.push_transaction(trx)\n"
   ]
  },
  {
   "cell_type": "code",
   "execution_count": 14,
   "metadata": {},
   "outputs": [
    {
     "data": {
      "text/plain": [
       "{\n",
       "    \"account_name\": \"hello\",\n",
       "    \"code_hash\": \"66067f4f6ddb3acd43709dc270b7d4956311fb8ddc3f98efb754ba465e63b62e\",\n",
       "    \"wast\": \"\",\n",
       "    \"wasm\": \"630000000000000000000000000200000040000000733c000000640064016c005a00640064026c016d025a026d035a036d045a046d055a0501006403640484005a066405640684005a076407640884005a08640153002909e9000000004e2904da014eda0b726561645f616374696f6eda0b73656e645f696e6c696e65da0f7472616e736665725f696e6c696e6563000000000000000009000000070000004300000073820000007400640183017d007400640283017d01740183007d02740264017c02830201007c007d037c007d047c007d057c007d067403a0047c037c047c057c01a1047d077c0764036b05726c7403a0057c07a1017d08740264047c08830201007403a0067c077c067c02a10301006e127403a0077c047c057c067c017c02a10501006400530029054eda0568656c6c6fda046e616d6572000000007a0668656c6c6f2c290872010000007202000000da057072696e74da026462da0866696e645f693634da076765745f693634da0a7570646174655f693634da0973746f72655f6936342909da016eda0269647206000000da04636f6465da0573636f7065da057461626c65da057061796572da03697472da086f6c645f6e616d65a9007215000000fa0568656c6c6fda0873617948656c6c6f04000000731c00000000010801080206010a010401040104010401100108010a010a01100272170000006300000000000000000100000002000000430000007318000000640164026c006d017d0001007c00a002a10001006400530029034e72000000002901da0667617264656e2903da086261636b796172647218000000da04706c617929017218000000721500000072150000007216000000721a00000016000000730400000000010c01721a000000630300000000000000030000000300000043000000732e0000007c027400640183016b0272147401830001006e167c027400640283016b02722a740264036404830201006400530029054eda0873617968656c6c6f721a000000da05656f73696fe96400000029037201000000721700000072040000002903da087265636569766572720f000000da06616374696f6e721500000072150000007216000000da056170706c791a000000730800000000010c0108010c01722000000029097208000000da06656f736c696272010000007202000000720300000072040000007217000000721a00000072200000007215000000721500000072150000007216000000da083c6d6f64756c653e0100000073080000000801180208120804\",\n",
       "    \"abi\": {\n",
       "        \"version\": \"eosio::abi/1.0\",\n",
       "        \"types\": [],\n",
       "        \"structs\": [\n",
       "            {\n",
       "                \"name\": \"message\",\n",
       "                \"base\": \"\",\n",
       "                \"fields\": [\n",
       "                    {\n",
       "                        \"name\": \"msg\",\n",
       "                        \"type\": \"string\"\n",
       "                    }\n",
       "                ]\n",
       "            }\n",
       "        ],\n",
       "        \"actions\": [\n",
       "            {\n",
       "                \"name\": \"sayhello\",\n",
       "                \"type\": \"raw\",\n",
       "                \"ricardian_contract\": \"\"\n",
       "            }\n",
       "        ],\n",
       "        \"tables\": [],\n",
       "        \"ricardian_clauses\": [],\n",
       "        \"error_messages\": [],\n",
       "        \"abi_extensions\": [],\n",
       "        \"variants\": []\n",
       "    }\n",
       "}"
      ]
     },
     "execution_count": 14,
     "metadata": {},
     "output_type": "execute_result"
    }
   ],
   "source": [
    "from pyeoskit import eosapi\n",
    "eosapi.get_code('hello')"
   ]
  },
  {
   "cell_type": "code",
   "execution_count": 6,
   "metadata": {},
   "outputs": [
    {
     "name": "stdout",
     "output_type": "stream",
     "text": [
      "\n"
     ]
    },
    {
     "data": {
      "text/plain": [
       "{'processed': {'action_traces': [{'account_ram_deltas': [],\n",
       "    'act': {'account': 'eosio.token',\n",
       "     'authorization': [{'actor': 'hello', 'permission': 'active'}],\n",
       "     'data': {'from': 'hello',\n",
       "      'memo': 'hello,world',\n",
       "      'quantity': '0.0001 EOS',\n",
       "      'to': 'eosio'},\n",
       "     'hex_data': '00000000001aa36a0000000000ea3055010000000000000004454f53000000000b68656c6c6f2c776f726c64',\n",
       "     'name': 'transfer'},\n",
       "    'block_num': 98868,\n",
       "    'block_time': '2018-10-09T04:15:38.000',\n",
       "    'console': '',\n",
       "    'context_free': False,\n",
       "    'cpu_usage': 0,\n",
       "    'elapsed': 227,\n",
       "    'inline_traces': [{'account_ram_deltas': [],\n",
       "      'act': {'account': 'eosio.token',\n",
       "       'authorization': [{'actor': 'hello', 'permission': 'active'}],\n",
       "       'data': {'from': 'hello',\n",
       "        'memo': 'hello,world',\n",
       "        'quantity': '0.0001 EOS',\n",
       "        'to': 'eosio'},\n",
       "       'hex_data': '00000000001aa36a0000000000ea3055010000000000000004454f53000000000b68656c6c6f2c776f726c64',\n",
       "       'name': 'transfer'},\n",
       "      'block_num': 98868,\n",
       "      'block_time': '2018-10-09T04:15:38.000',\n",
       "      'console': '',\n",
       "      'context_free': False,\n",
       "      'cpu_usage': 0,\n",
       "      'elapsed': 789,\n",
       "      'inline_traces': [],\n",
       "      'producer_block_id': None,\n",
       "      'receipt': {'abi_sequence': 1,\n",
       "       'act_digest': '78a51d36e7ab6541056487422bfc6e9e519a4e99dc35d91633b85233f90ae530',\n",
       "       'auth_sequence': [['hello', 77]],\n",
       "       'code_sequence': 1,\n",
       "       'global_sequence': 98973,\n",
       "       'receiver': 'hello',\n",
       "       'recv_sequence': 29},\n",
       "      'total_cpu_usage': 0,\n",
       "      'trx_id': 'e0243fbadd01caff59ade426c120ceab9b553a2e09347b0edf22ca29193a790d'},\n",
       "     {'account_ram_deltas': [],\n",
       "      'act': {'account': 'eosio.token',\n",
       "       'authorization': [{'actor': 'hello', 'permission': 'active'}],\n",
       "       'data': {'from': 'hello',\n",
       "        'memo': 'hello,world',\n",
       "        'quantity': '0.0001 EOS',\n",
       "        'to': 'eosio'},\n",
       "       'hex_data': '00000000001aa36a0000000000ea3055010000000000000004454f53000000000b68656c6c6f2c776f726c64',\n",
       "       'name': 'transfer'},\n",
       "      'block_num': 98868,\n",
       "      'block_time': '2018-10-09T04:15:38.000',\n",
       "      'console': '',\n",
       "      'context_free': False,\n",
       "      'cpu_usage': 0,\n",
       "      'elapsed': 107,\n",
       "      'inline_traces': [],\n",
       "      'producer_block_id': None,\n",
       "      'receipt': {'abi_sequence': 1,\n",
       "       'act_digest': '78a51d36e7ab6541056487422bfc6e9e519a4e99dc35d91633b85233f90ae530',\n",
       "       'auth_sequence': [['hello', 78]],\n",
       "       'code_sequence': 1,\n",
       "       'global_sequence': 98974,\n",
       "       'receiver': 'eosio',\n",
       "       'recv_sequence': 98915},\n",
       "      'total_cpu_usage': 0,\n",
       "      'trx_id': 'e0243fbadd01caff59ade426c120ceab9b553a2e09347b0edf22ca29193a790d'}],\n",
       "    'producer_block_id': None,\n",
       "    'receipt': {'abi_sequence': 1,\n",
       "     'act_digest': '78a51d36e7ab6541056487422bfc6e9e519a4e99dc35d91633b85233f90ae530',\n",
       "     'auth_sequence': [['hello', 76]],\n",
       "     'code_sequence': 1,\n",
       "     'global_sequence': 98972,\n",
       "     'receiver': 'eosio.token',\n",
       "     'recv_sequence': 30},\n",
       "    'total_cpu_usage': 0,\n",
       "    'trx_id': 'e0243fbadd01caff59ade426c120ceab9b553a2e09347b0edf22ca29193a790d'}],\n",
       "  'block_num': 98868,\n",
       "  'block_time': '2018-10-09T04:15:38.000',\n",
       "  'elapsed': 2177,\n",
       "  'except': None,\n",
       "  'id': 'e0243fbadd01caff59ade426c120ceab9b553a2e09347b0edf22ca29193a790d',\n",
       "  'net_usage': 136,\n",
       "  'producer_block_id': None,\n",
       "  'receipt': {'cpu_usage_us': 2177,\n",
       "   'net_usage_words': 17,\n",
       "   'status': 'executed'},\n",
       "  'scheduled': False},\n",
       " 'transaction_id': 'e0243fbadd01caff59ade426c120ceab9b553a2e09347b0edf22ca29193a790d'}"
      ]
     },
     "execution_count": 6,
     "metadata": {},
     "output_type": "execute_result"
    }
   ],
   "source": [
    "from pyeoskit import db\n",
    "from pyeoskit import eosapi\n",
    "from pyeoskit import wallet\n",
    "\n",
    "mywallet = 'mywallet2'\n",
    "psw = wallet.create(mywallet)\n",
    "print(psw)\n",
    "wallet.unlock(mywallet, psw)\n",
    "wallet.unlock(mywallet, psw)\n",
    "wallet.import_key(mywallet, '5JbDP55GXN7MLcNYKCnJtfKi9aD2HvHAdY7g8m67zFTAFkY1uBB')\n",
    "\n",
    "args = {\"from\": 'eosio',\n",
    "        \"to\": 'hello',\n",
    "        \"quantity\": '0.0001 EOS',\n",
    "        \"memo\": 'hello,world'\n",
    "}\n",
    "\n",
    "abi = db.get_abi('eosio.token')\n",
    "r = eosapi.pack_args(abi, 'transfer', args)\n",
    "assert r\n",
    "\n",
    "args = {\"from\": 'hello',\n",
    "        \"to\": 'eosio',\n",
    "        \"quantity\": '0.0001 EOS',\n",
    "        \"memo\": 'hello,world'\n",
    "}\n",
    "action = ['eosio.token', 'transfer', args, {'hello':'active'}]\n",
    "eosapi.push_action(*action)"
   ]
  },
  {
   "cell_type": "code",
   "execution_count": 7,
   "metadata": {},
   "outputs": [
    {
     "name": "stdout",
     "output_type": "stream",
     "text": [
      "None\n"
     ]
    }
   ],
   "source": []
  }
 ],
 "metadata": {
  "kernelspec": {
   "display_name": "Python 3",
   "language": "python",
   "name": "python3"
  },
  "language_info": {
   "codemirror_mode": {
    "name": "ipython",
    "version": 3
   },
   "file_extension": ".py",
   "mimetype": "text/x-python",
   "name": "python",
   "nbconvert_exporter": "python",
   "pygments_lexer": "ipython3",
   "version": "3.6.1"
  }
 },
 "nbformat": 4,
 "nbformat_minor": 2
}
