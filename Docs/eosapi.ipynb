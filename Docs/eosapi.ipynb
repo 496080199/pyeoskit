{
 "cells": [
  {
   "cell_type": "code",
   "execution_count": 1,
   "metadata": {},
   "outputs": [],
   "source": [
    "from pyeoskit import eosapi"
   ]
  },
  {
   "cell_type": "code",
   "execution_count": 3,
   "metadata": {},
   "outputs": [
    {
     "data": {
      "text/plain": [
       "{\n",
       "    \"server_version\": \"502085b2\",\n",
       "    \"chain_id\": \"cf057bbfb72640471fd910bcb67639c22df9f92470936cddc1ade0e2f2e7dc4f\",\n",
       "    \"head_block_num\": 12209,\n",
       "    \"last_irreversible_block_num\": 12208,\n",
       "    \"last_irreversible_block_id\": \"00002fb0873231d5354f3dbd729e60283aec725a9b8f71bcc037ac76dc98cd02\",\n",
       "    \"head_block_id\": \"00002fb115ef6a212ef2ebfafe33b8e26c21ece57e81d667adf4984e22f1237c\",\n",
       "    \"head_block_time\": \"2018-10-08T00:00:28.500\",\n",
       "    \"head_block_producer\": \"eosio\",\n",
       "    \"virtual_block_cpu_limit\": 200000000,\n",
       "    \"virtual_block_net_limit\": 1048576000,\n",
       "    \"block_cpu_limit\": 199900,\n",
       "    \"block_net_limit\": 1048576,\n",
       "    \"server_version_string\": \"pre-release-1.0-101-g502085b21-dirty\"\n",
       "}"
      ]
     },
     "execution_count": 3,
     "metadata": {},
     "output_type": "execute_result"
    }
   ],
   "source": [
    "eosapi.get_info()"
   ]
  },
  {
   "cell_type": "code",
   "execution_count": 4,
   "metadata": {},
   "outputs": [
    {
     "data": {
      "text/plain": [
       "{\n",
       "    \"timestamp\": \"2018-06-01T12:00:00.000\",\n",
       "    \"producer\": \"\",\n",
       "    \"confirmed\": 1,\n",
       "    \"previous\": \"0000000000000000000000000000000000000000000000000000000000000000\",\n",
       "    \"transaction_mroot\": \"0000000000000000000000000000000000000000000000000000000000000000\",\n",
       "    \"action_mroot\": \"cf057bbfb72640471fd910bcb67639c22df9f92470936cddc1ade0e2f2e7dc4f\",\n",
       "    \"schedule_version\": 0,\n",
       "    \"new_producers\": null,\n",
       "    \"header_extensions\": [],\n",
       "    \"producer_signature\": \"SIG_K1_111111111111111111111111111111111111111111111111111111111111111116uk5ne\",\n",
       "    \"transactions\": [],\n",
       "    \"block_extensions\": [],\n",
       "    \"id\": \"00000001bcf2f448225d099685f14da76803028926af04d2607eafcf609c265c\",\n",
       "    \"block_num\": 1,\n",
       "    \"ref_block_prefix\": 2517196066\n",
       "}"
      ]
     },
     "execution_count": 4,
     "metadata": {},
     "output_type": "execute_result"
    }
   ],
   "source": [
    "eosapi.get_block(1)"
   ]
  },
  {
   "cell_type": "code",
   "execution_count": 5,
   "metadata": {},
   "outputs": [
    {
     "data": {
      "text/plain": [
       "{\n",
       "    \"id\": \"0000305d5a9e223aea1a5ac7ba91d8f3ea2e706e9f8c978fd414889abefcd6b6\",\n",
       "    \"block_num\": 12381,\n",
       "    \"header\": {\n",
       "        \"timestamp\": \"2018-10-08T00:01:54.500\",\n",
       "        \"producer\": \"eosio\",\n",
       "        \"confirmed\": 0,\n",
       "        \"previous\": \"0000305c011c91b47ac75b73e41ece05ece0ad413790275604fed14bc6e1f8fc\",\n",
       "        \"transaction_mroot\": \"0000000000000000000000000000000000000000000000000000000000000000\",\n",
       "        \"action_mroot\": \"e99006973b66c96cec0d506808542a3b066dd02535987822e49e2c1e40ce0928\",\n",
       "        \"schedule_version\": 0,\n",
       "        \"header_extensions\": [],\n",
       "        \"producer_signature\": \"SIG_K1_KbKiq4JnoJS2Vi26TfTgFFM3jSp8pJdW64qhe5nnTG9NjMSXZKKysd3Mq2BTjYnPdqVgKDdeQJoYX26EmzvAbTcXMb6WbS\"\n",
       "    },\n",
       "    \"dpos_proposed_irreversible_blocknum\": 12381,\n",
       "    \"dpos_irreversible_blocknum\": 12380,\n",
       "    \"bft_irreversible_blocknum\": 0,\n",
       "    \"pending_schedule_lib_num\": 0,\n",
       "    \"pending_schedule_hash\": \"828135c21a947b15cdbf4941ba09e1c9e0a80e88a157b0989e9b476b71a21c6b\",\n",
       "    \"pending_schedule\": {\n",
       "        \"version\": 0,\n",
       "        \"producers\": []\n",
       "    },\n",
       "    \"active_schedule\": {\n",
       "        \"version\": 0,\n",
       "        \"producers\": [\n",
       "            {\n",
       "                \"producer_name\": \"eosio\",\n",
       "                \"block_signing_key\": \"EOS6MRyAjQq8ud7hVNYcfnVPJqcVpscN5So8BhtHuGYqET5GDW5CV\"\n",
       "            }\n",
       "        ]\n",
       "    },\n",
       "    \"blockroot_merkle\": {\n",
       "        \"_active_nodes\": [\n",
       "            \"02a268b77f4d6d4a0185bcb86b4373bfce568dfcff85b3195fbb4c12002e500d\",\n",
       "            \"43ebe9a5570a2274af700859dc1420b1c6ad87cc9b29a5de7be2485c234c9886\",\n",
       "            \"4923455dacd3ec0df00cdcc8cf81715768716d816430ab8e4a5da0201ea8429a\",\n",
       "            \"dafe25101bb685c22ba812d144fbcd5f7ec49ab429ac46109f4ee083c0c675d6\",\n",
       "            \"b1e87599c90273f33f003a5548ee87bc57c8b4cbcedfe5a0be2d0b75006c61ed\",\n",
       "            \"1477d6f18bd7218dfdb4e6c13de14d23518adbc28ee45f44793400e9a4890365\",\n",
       "            \"8b0ae2e207e7787f10c835e3244b30b54b49863824014950f04b4421b75cca1d\"\n",
       "        ],\n",
       "        \"_node_count\": 12380\n",
       "    },\n",
       "    \"producer_to_last_produced\": [\n",
       "        [\n",
       "            \"eosio\",\n",
       "            12381\n",
       "        ]\n",
       "    ],\n",
       "    \"producer_to_last_implied_irb\": [\n",
       "        [\n",
       "            \"eosio\",\n",
       "            12380\n",
       "        ]\n",
       "    ],\n",
       "    \"block_signing_key\": \"EOS6MRyAjQq8ud7hVNYcfnVPJqcVpscN5So8BhtHuGYqET5GDW5CV\",\n",
       "    \"confirm_count\": [],\n",
       "    \"confirmations\": []\n",
       "}"
      ]
     },
     "execution_count": 5,
     "metadata": {},
     "output_type": "execute_result"
    }
   ],
   "source": [
    "info = eosapi.get_info()\n",
    "eosapi.get_block_header_state(info.last_irreversible_block_num)"
   ]
  },
  {
   "cell_type": "code",
   "execution_count": 6,
   "metadata": {},
   "outputs": [
    {
     "data": {
      "text/plain": [
       "{\n",
       "    \"account_name\": \"hello\",\n",
       "    \"head_block_num\": 12453,\n",
       "    \"head_block_time\": \"2018-10-08T00:02:30.500\",\n",
       "    \"privileged\": false,\n",
       "    \"last_code_update\": \"2018-10-07T15:48:57.500\",\n",
       "    \"created\": \"2018-10-07T15:48:57.500\",\n",
       "    \"ram_quota\": -1,\n",
       "    \"net_weight\": -1,\n",
       "    \"cpu_weight\": -1,\n",
       "    \"net_limit\": {\n",
       "        \"used\": -1,\n",
       "        \"available\": -1,\n",
       "        \"max\": -1\n",
       "    },\n",
       "    \"cpu_limit\": {\n",
       "        \"used\": -1,\n",
       "        \"available\": -1,\n",
       "        \"max\": -1\n",
       "    },\n",
       "    \"ram_usage\": 12359,\n",
       "    \"permissions\": [\n",
       "        {\n",
       "            \"perm_name\": \"active\",\n",
       "            \"parent\": \"owner\",\n",
       "            \"required_auth\": {\n",
       "                \"threshold\": 1,\n",
       "                \"keys\": [\n",
       "                    {\n",
       "                        \"key\": \"EOS5JuNfuZPATy8oPz9KMZV2asKf9m8fb2bSzftvhW55FKQFakzFL\",\n",
       "                        \"weight\": 1\n",
       "                    }\n",
       "                ],\n",
       "                \"accounts\": [],\n",
       "                \"waits\": []\n",
       "            }\n",
       "        },\n",
       "        {\n",
       "            \"perm_name\": \"owner\",\n",
       "            \"parent\": \"\",\n",
       "            \"required_auth\": {\n",
       "                \"threshold\": 1,\n",
       "                \"keys\": [\n",
       "                    {\n",
       "                        \"key\": \"EOS61MgZLN7Frbc2J7giU7JdYjy2TqnfWFjZuLXvpHJoKzWAj7Nst\",\n",
       "                        \"weight\": 1\n",
       "                    }\n",
       "                ],\n",
       "                \"accounts\": [],\n",
       "                \"waits\": []\n",
       "            }\n",
       "        }\n",
       "    ],\n",
       "    \"total_resources\": null,\n",
       "    \"self_delegated_bandwidth\": null,\n",
       "    \"refund_request\": null,\n",
       "    \"voter_info\": null\n",
       "}"
      ]
     },
     "execution_count": 6,
     "metadata": {},
     "output_type": "execute_result"
    }
   ],
   "source": [
    "eosapi.get_account('hello')"
   ]
  },
  {
   "cell_type": "code",
   "execution_count": 7,
   "metadata": {},
   "outputs": [
    {
     "data": {
      "text/plain": [
       "{\n",
       "    \"account_name\": \"hello\",\n",
       "    \"code_hash\": \"66067f4f6ddb3acd43709dc270b7d4956311fb8ddc3f98efb754ba465e63b62e\",\n",
       "    \"wast\": \"\",\n",
       "    \"wasm\": \"630000000000000000000000000200000040000000733c000000640064016c005a00640064026c016d025a026d035a036d045a046d055a0501006403640484005a066405640684005a076407640884005a08640153002909e9000000004e2904da014eda0b726561645f616374696f6eda0b73656e645f696e6c696e65da0f7472616e736665725f696e6c696e6563000000000000000009000000070000004300000073820000007400640183017d007400640283017d01740183007d02740264017c02830201007c007d037c007d047c007d057c007d067403a0047c037c047c057c01a1047d077c0764036b05726c7403a0057c07a1017d08740264047c08830201007403a0067c077c067c02a10301006e127403a0077c047c057c067c017c02a10501006400530029054eda0568656c6c6fda046e616d6572000000007a0668656c6c6f2c290872010000007202000000da057072696e74da026462da0866696e645f693634da076765745f693634da0a7570646174655f693634da0973746f72655f6936342909da016eda0269647206000000da04636f6465da0573636f7065da057461626c65da057061796572da03697472da086f6c645f6e616d65a9007215000000fa0568656c6c6fda0873617948656c6c6f04000000731c00000000010801080206010a010401040104010401100108010a010a01100272170000006300000000000000000100000002000000430000007318000000640164026c006d017d0001007c00a002a10001006400530029034e72000000002901da0667617264656e2903da086261636b796172647218000000da04706c617929017218000000721500000072150000007216000000721a00000016000000730400000000010c01721a000000630300000000000000030000000300000043000000732e0000007c027400640183016b0272147401830001006e167c027400640283016b02722a740264036404830201006400530029054eda0873617968656c6c6f721a000000da05656f73696fe96400000029037201000000721700000072040000002903da087265636569766572720f000000da06616374696f6e721500000072150000007216000000da056170706c791a000000730800000000010c0108010c01722000000029097208000000da06656f736c696272010000007202000000720300000072040000007217000000721a00000072200000007215000000721500000072150000007216000000da083c6d6f64756c653e0100000073080000000801180208120804\",\n",
       "    \"abi\": {\n",
       "        \"version\": \"eosio::abi/1.0\",\n",
       "        \"types\": [],\n",
       "        \"structs\": [\n",
       "            {\n",
       "                \"name\": \"message\",\n",
       "                \"base\": \"\",\n",
       "                \"fields\": [\n",
       "                    {\n",
       "                        \"name\": \"msg\",\n",
       "                        \"type\": \"string\"\n",
       "                    }\n",
       "                ]\n",
       "            }\n",
       "        ],\n",
       "        \"actions\": [\n",
       "            {\n",
       "                \"name\": \"sayhello\",\n",
       "                \"type\": \"raw\",\n",
       "                \"ricardian_contract\": \"\"\n",
       "            }\n",
       "        ],\n",
       "        \"tables\": [],\n",
       "        \"ricardian_clauses\": [],\n",
       "        \"error_messages\": [],\n",
       "        \"abi_extensions\": [],\n",
       "        \"variants\": []\n",
       "    }\n",
       "}"
      ]
     },
     "execution_count": 7,
     "metadata": {},
     "output_type": "execute_result"
    }
   ],
   "source": [
    "eosapi.get_code('hello')"
   ]
  },
  {
   "cell_type": "code",
   "execution_count": 2,
   "metadata": {},
   "outputs": [
    {
     "data": {
      "text/plain": [
       "{\n",
       "    \"active\": {\n",
       "        \"version\": 0,\n",
       "        \"producers\": [\n",
       "            {\n",
       "                \"producer_name\": \"eosio\",\n",
       "                \"block_signing_key\": \"EOS6MRyAjQq8ud7hVNYcfnVPJqcVpscN5So8BhtHuGYqET5GDW5CV\"\n",
       "            }\n",
       "        ]\n",
       "    },\n",
       "    \"pending\": null,\n",
       "    \"proposed\": null\n",
       "}"
      ]
     },
     "execution_count": 2,
     "metadata": {},
     "output_type": "execute_result"
    }
   ],
   "source": [
    " eosapi.get_producer_schedule()"
   ]
  },
  {
   "cell_type": "code",
   "execution_count": 11,
   "metadata": {},
   "outputs": [
    {
     "data": {
      "text/plain": [
       "{\n",
       "    \"binargs\": \"0000000000ea305500000000001aa36a010000000000000004454f53000000000b68656c6c6f2c776f726c64\"\n",
       "}"
      ]
     },
     "execution_count": 11,
     "metadata": {},
     "output_type": "execute_result"
    }
   ],
   "source": [
    "args = {\"from\": 'eosio',\n",
    "        \"to\": 'hello',\n",
    "        \"quantity\": '0.0001 EOS',\n",
    "        \"memo\": 'hello,world'\n",
    "}\n",
    "\n",
    "eosapi.abi_json_to_bin('eosio.token', 'transfer', args)"
   ]
  },
  {
   "cell_type": "code",
   "execution_count": 12,
   "metadata": {},
   "outputs": [
    {
     "data": {
      "text/plain": [
       "{\n",
       "    \"args\": {\n",
       "        \"from\": \"eosio\",\n",
       "        \"to\": \"hello\",\n",
       "        \"quantity\": \"0.0001 EOS\",\n",
       "        \"memo\": \"hello,world\"\n",
       "    }\n",
       "}"
      ]
     },
     "execution_count": 12,
     "metadata": {},
     "output_type": "execute_result"
    }
   ],
   "source": [
    "binargs = '0000000000ea305500000000001aa36a010000000000000004454f53000000000b68656c6c6f2c776f726c64'\n",
    "eosapi.abi_bin_to_json('eosio.token', 'transfer', binargs)"
   ]
  }
 ],
 "metadata": {
  "kernelspec": {
   "display_name": "Python 3",
   "language": "python",
   "name": "python3"
  },
  "language_info": {
   "codemirror_mode": {
    "name": "ipython",
    "version": 3
   },
   "file_extension": ".py",
   "mimetype": "text/x-python",
   "name": "python",
   "nbconvert_exporter": "python",
   "pygments_lexer": "ipython3",
   "version": "3.6.1"
  }
 },
 "nbformat": 4,
 "nbformat_minor": 2
}
